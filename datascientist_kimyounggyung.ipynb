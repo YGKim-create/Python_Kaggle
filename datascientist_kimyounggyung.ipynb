{
 "cells": [
  {
   "cell_type": "markdown",
   "metadata": {},
   "source": [
    "<pre>\n",
    "필요한 라이브러리를 불러옵니다.\n",
    "</pre>"
   ]
  },
  {
   "cell_type": "code",
   "execution_count": 1,
   "metadata": {},
   "outputs": [],
   "source": [
    "import pandas as pd\n",
    "import numpy as np\n",
    "import matplotlib as mpl\n",
    "import matplotlib.pyplot as plt\n",
    "import matplotlib.font_manager as fm\n",
    "import seaborn as sns\n",
    "from scipy import stats\n",
    "import re\n",
    "import missingno as msno\n",
    "%matplotlib inline"
   ]
  },
  {
   "cell_type": "code",
   "execution_count": 2,
   "metadata": {},
   "outputs": [],
   "source": [
    "#폰트 설정\n",
    "fontpath = \"/usr/share/fonts/RIDIBatang.otf\"\n",
    "from matplotlib import font_manager, rc\n",
    "font_name = font_manager.FontProperties(fname=fontpath).get_name()\n",
    "rc('font', family=font_name)\n",
    "#마이너스 부호 깨짐 방지\n",
    "import matplotlib"
   ]
  },
  {
   "cell_type": "code",
   "execution_count": 3,
   "metadata": {},
   "outputs": [],
   "source": [
    "#데이터 로드하기\n",
    "df = pd.read_csv('SUM.csv')"
   ]
  },
  {
   "cell_type": "code",
   "execution_count": 4,
   "metadata": {},
   "outputs": [
    {
     "data": {
      "text/html": [
       "<div>\n",
       "<style scoped>\n",
       "    .dataframe tbody tr th:only-of-type {\n",
       "        vertical-align: middle;\n",
       "    }\n",
       "\n",
       "    .dataframe tbody tr th {\n",
       "        vertical-align: top;\n",
       "    }\n",
       "\n",
       "    .dataframe thead th {\n",
       "        text-align: right;\n",
       "    }\n",
       "</style>\n",
       "<table border=\"1\" class=\"dataframe\">\n",
       "  <thead>\n",
       "    <tr style=\"text-align: right;\">\n",
       "      <th></th>\n",
       "      <th>monthCode</th>\n",
       "      <th>serviceId</th>\n",
       "      <th>userId</th>\n",
       "      <th>timeSpent</th>\n",
       "      <th>numberOfDays</th>\n",
       "    </tr>\n",
       "  </thead>\n",
       "  <tbody>\n",
       "    <tr>\n",
       "      <td>0</td>\n",
       "      <td>201112</td>\n",
       "      <td>13</td>\n",
       "      <td>59749</td>\n",
       "      <td>136.0</td>\n",
       "      <td>3</td>\n",
       "    </tr>\n",
       "    <tr>\n",
       "      <td>1</td>\n",
       "      <td>201112</td>\n",
       "      <td>14</td>\n",
       "      <td>15220</td>\n",
       "      <td>33.0</td>\n",
       "      <td>1</td>\n",
       "    </tr>\n",
       "    <tr>\n",
       "      <td>2</td>\n",
       "      <td>201112</td>\n",
       "      <td>14</td>\n",
       "      <td>15471</td>\n",
       "      <td>812.0</td>\n",
       "      <td>19</td>\n",
       "    </tr>\n",
       "    <tr>\n",
       "      <td>3</td>\n",
       "      <td>201112</td>\n",
       "      <td>14</td>\n",
       "      <td>15583</td>\n",
       "      <td>38.0</td>\n",
       "      <td>1</td>\n",
       "    </tr>\n",
       "    <tr>\n",
       "      <td>4</td>\n",
       "      <td>201112</td>\n",
       "      <td>14</td>\n",
       "      <td>15777</td>\n",
       "      <td>6.0</td>\n",
       "      <td>1</td>\n",
       "    </tr>\n",
       "    <tr>\n",
       "      <td>...</td>\n",
       "      <td>...</td>\n",
       "      <td>...</td>\n",
       "      <td>...</td>\n",
       "      <td>...</td>\n",
       "      <td>...</td>\n",
       "    </tr>\n",
       "    <tr>\n",
       "      <td>708839</td>\n",
       "      <td>201102</td>\n",
       "      <td>19</td>\n",
       "      <td>8358</td>\n",
       "      <td>964.0</td>\n",
       "      <td>11</td>\n",
       "    </tr>\n",
       "    <tr>\n",
       "      <td>708840</td>\n",
       "      <td>201102</td>\n",
       "      <td>19</td>\n",
       "      <td>8483</td>\n",
       "      <td>38.0</td>\n",
       "      <td>1</td>\n",
       "    </tr>\n",
       "    <tr>\n",
       "      <td>708841</td>\n",
       "      <td>201101</td>\n",
       "      <td>22</td>\n",
       "      <td>44198</td>\n",
       "      <td>30.0</td>\n",
       "      <td>1</td>\n",
       "    </tr>\n",
       "    <tr>\n",
       "      <td>708842</td>\n",
       "      <td>201101</td>\n",
       "      <td>22</td>\n",
       "      <td>44313</td>\n",
       "      <td>143.0</td>\n",
       "      <td>2</td>\n",
       "    </tr>\n",
       "    <tr>\n",
       "      <td>708843</td>\n",
       "      <td>201101</td>\n",
       "      <td>22</td>\n",
       "      <td>44337</td>\n",
       "      <td>318.0</td>\n",
       "      <td>5</td>\n",
       "    </tr>\n",
       "  </tbody>\n",
       "</table>\n",
       "<p>708844 rows × 5 columns</p>\n",
       "</div>"
      ],
      "text/plain": [
       "        monthCode  serviceId  userId  timeSpent  numberOfDays\n",
       "0          201112         13   59749      136.0             3\n",
       "1          201112         14   15220       33.0             1\n",
       "2          201112         14   15471      812.0            19\n",
       "3          201112         14   15583       38.0             1\n",
       "4          201112         14   15777        6.0             1\n",
       "...           ...        ...     ...        ...           ...\n",
       "708839     201102         19    8358      964.0            11\n",
       "708840     201102         19    8483       38.0             1\n",
       "708841     201101         22   44198       30.0             1\n",
       "708842     201101         22   44313      143.0             2\n",
       "708843     201101         22   44337      318.0             5\n",
       "\n",
       "[708844 rows x 5 columns]"
      ]
     },
     "execution_count": 4,
     "metadata": {},
     "output_type": "execute_result"
    }
   ],
   "source": [
    "df"
   ]
  },
  {
   "cell_type": "markdown",
   "metadata": {},
   "source": [
    "<pre>\n",
    "데이터를 불러 온 후, 데이터의 요약정보들을 확인합니다.\n",
    "</pre>"
   ]
  },
  {
   "cell_type": "code",
   "execution_count": 5,
   "metadata": {},
   "outputs": [
    {
     "data": {
      "text/plain": [
       "(708844, 5)"
      ]
     },
     "execution_count": 5,
     "metadata": {},
     "output_type": "execute_result"
    }
   ],
   "source": [
    "df.shape"
   ]
  },
  {
   "cell_type": "code",
   "execution_count": 6,
   "metadata": {},
   "outputs": [
    {
     "name": "stdout",
     "output_type": "stream",
     "text": [
      "<class 'pandas.core.frame.DataFrame'>\n",
      "RangeIndex: 708844 entries, 0 to 708843\n",
      "Data columns (total 5 columns):\n",
      "monthCode       708844 non-null int64\n",
      "serviceId       708844 non-null int64\n",
      "userId          708844 non-null int64\n",
      "timeSpent       706235 non-null float64\n",
      "numberOfDays    708844 non-null int64\n",
      "dtypes: float64(1), int64(4)\n",
      "memory usage: 27.0 MB\n"
     ]
    }
   ],
   "source": [
    "df.info()"
   ]
  },
  {
   "cell_type": "code",
   "execution_count": 7,
   "metadata": {},
   "outputs": [
    {
     "data": {
      "text/html": [
       "<div>\n",
       "<style scoped>\n",
       "    .dataframe tbody tr th:only-of-type {\n",
       "        vertical-align: middle;\n",
       "    }\n",
       "\n",
       "    .dataframe tbody tr th {\n",
       "        vertical-align: top;\n",
       "    }\n",
       "\n",
       "    .dataframe thead th {\n",
       "        text-align: right;\n",
       "    }\n",
       "</style>\n",
       "<table border=\"1\" class=\"dataframe\">\n",
       "  <thead>\n",
       "    <tr style=\"text-align: right;\">\n",
       "      <th></th>\n",
       "      <th>monthCode</th>\n",
       "      <th>serviceId</th>\n",
       "      <th>userId</th>\n",
       "      <th>timeSpent</th>\n",
       "      <th>numberOfDays</th>\n",
       "    </tr>\n",
       "  </thead>\n",
       "  <tbody>\n",
       "    <tr>\n",
       "      <td>0</td>\n",
       "      <td>201112</td>\n",
       "      <td>13</td>\n",
       "      <td>59749</td>\n",
       "      <td>136.0</td>\n",
       "      <td>3</td>\n",
       "    </tr>\n",
       "    <tr>\n",
       "      <td>1</td>\n",
       "      <td>201112</td>\n",
       "      <td>14</td>\n",
       "      <td>15220</td>\n",
       "      <td>33.0</td>\n",
       "      <td>1</td>\n",
       "    </tr>\n",
       "    <tr>\n",
       "      <td>2</td>\n",
       "      <td>201112</td>\n",
       "      <td>14</td>\n",
       "      <td>15471</td>\n",
       "      <td>812.0</td>\n",
       "      <td>19</td>\n",
       "    </tr>\n",
       "    <tr>\n",
       "      <td>3</td>\n",
       "      <td>201112</td>\n",
       "      <td>14</td>\n",
       "      <td>15583</td>\n",
       "      <td>38.0</td>\n",
       "      <td>1</td>\n",
       "    </tr>\n",
       "    <tr>\n",
       "      <td>4</td>\n",
       "      <td>201112</td>\n",
       "      <td>14</td>\n",
       "      <td>15777</td>\n",
       "      <td>6.0</td>\n",
       "      <td>1</td>\n",
       "    </tr>\n",
       "  </tbody>\n",
       "</table>\n",
       "</div>"
      ],
      "text/plain": [
       "   monthCode  serviceId  userId  timeSpent  numberOfDays\n",
       "0     201112         13   59749      136.0             3\n",
       "1     201112         14   15220       33.0             1\n",
       "2     201112         14   15471      812.0            19\n",
       "3     201112         14   15583       38.0             1\n",
       "4     201112         14   15777        6.0             1"
      ]
     },
     "execution_count": 7,
     "metadata": {},
     "output_type": "execute_result"
    }
   ],
   "source": [
    "df.head()"
   ]
  },
  {
   "cell_type": "code",
   "execution_count": 8,
   "metadata": {},
   "outputs": [
    {
     "data": {
      "text/html": [
       "<div>\n",
       "<style scoped>\n",
       "    .dataframe tbody tr th:only-of-type {\n",
       "        vertical-align: middle;\n",
       "    }\n",
       "\n",
       "    .dataframe tbody tr th {\n",
       "        vertical-align: top;\n",
       "    }\n",
       "\n",
       "    .dataframe thead th {\n",
       "        text-align: right;\n",
       "    }\n",
       "</style>\n",
       "<table border=\"1\" class=\"dataframe\">\n",
       "  <thead>\n",
       "    <tr style=\"text-align: right;\">\n",
       "      <th></th>\n",
       "      <th>monthCode</th>\n",
       "      <th>serviceId</th>\n",
       "      <th>userId</th>\n",
       "      <th>timeSpent</th>\n",
       "      <th>numberOfDays</th>\n",
       "    </tr>\n",
       "  </thead>\n",
       "  <tbody>\n",
       "    <tr>\n",
       "      <td>708839</td>\n",
       "      <td>201102</td>\n",
       "      <td>19</td>\n",
       "      <td>8358</td>\n",
       "      <td>964.0</td>\n",
       "      <td>11</td>\n",
       "    </tr>\n",
       "    <tr>\n",
       "      <td>708840</td>\n",
       "      <td>201102</td>\n",
       "      <td>19</td>\n",
       "      <td>8483</td>\n",
       "      <td>38.0</td>\n",
       "      <td>1</td>\n",
       "    </tr>\n",
       "    <tr>\n",
       "      <td>708841</td>\n",
       "      <td>201101</td>\n",
       "      <td>22</td>\n",
       "      <td>44198</td>\n",
       "      <td>30.0</td>\n",
       "      <td>1</td>\n",
       "    </tr>\n",
       "    <tr>\n",
       "      <td>708842</td>\n",
       "      <td>201101</td>\n",
       "      <td>22</td>\n",
       "      <td>44313</td>\n",
       "      <td>143.0</td>\n",
       "      <td>2</td>\n",
       "    </tr>\n",
       "    <tr>\n",
       "      <td>708843</td>\n",
       "      <td>201101</td>\n",
       "      <td>22</td>\n",
       "      <td>44337</td>\n",
       "      <td>318.0</td>\n",
       "      <td>5</td>\n",
       "    </tr>\n",
       "  </tbody>\n",
       "</table>\n",
       "</div>"
      ],
      "text/plain": [
       "        monthCode  serviceId  userId  timeSpent  numberOfDays\n",
       "708839     201102         19    8358      964.0            11\n",
       "708840     201102         19    8483       38.0             1\n",
       "708841     201101         22   44198       30.0             1\n",
       "708842     201101         22   44313      143.0             2\n",
       "708843     201101         22   44337      318.0             5"
      ]
     },
     "execution_count": 8,
     "metadata": {},
     "output_type": "execute_result"
    }
   ],
   "source": [
    "df.tail()"
   ]
  },
  {
   "cell_type": "code",
   "execution_count": 9,
   "metadata": {},
   "outputs": [],
   "source": [
    "df['monthCode_str'] = df['monthCode'].astype(str)"
   ]
  },
  {
   "cell_type": "code",
   "execution_count": 10,
   "metadata": {},
   "outputs": [
    {
     "name": "stdout",
     "output_type": "stream",
     "text": [
      "object\n"
     ]
    }
   ],
   "source": [
    "print(df['monthCode_str'].dtype)"
   ]
  },
  {
   "cell_type": "code",
   "execution_count": 11,
   "metadata": {},
   "outputs": [],
   "source": [
    "df['month'] = df['monthCode_str'].str[4:6]"
   ]
  },
  {
   "cell_type": "code",
   "execution_count": 12,
   "metadata": {},
   "outputs": [],
   "source": [
    "df['year'] = df['monthCode_str'].str[0:4]"
   ]
  },
  {
   "cell_type": "code",
   "execution_count": 13,
   "metadata": {},
   "outputs": [],
   "source": [
    "df['month'] = df['month'].astype(int)\n",
    "df['year'] = df['year'].astype(int)\n",
    "#df['timeSpent'] = df['timeSpent'].astype(int)"
   ]
  },
  {
   "cell_type": "markdown",
   "metadata": {},
   "source": [
    "<pre>\n",
    "상단 monthCode를 활용할 수 있는 데이터로 연도 / 월을 분리하는 과정을 거친 후 외부 코드에서 date타입으로 변경하여 저장한 \n",
    "정제된 데이터를 df으로 다시 불러옵니다.</pre>"
   ]
  },
  {
   "cell_type": "code",
   "execution_count": 14,
   "metadata": {},
   "outputs": [],
   "source": [
    "df = pd.read_csv('service2.csv')"
   ]
  },
  {
   "cell_type": "code",
   "execution_count": 15,
   "metadata": {},
   "outputs": [
    {
     "name": "stdout",
     "output_type": "stream",
     "text": [
      "<class 'pandas.core.frame.DataFrame'>\n",
      "RangeIndex: 708844 entries, 0 to 708843\n",
      "Data columns (total 9 columns):\n",
      "Unnamed: 0      708844 non-null int64\n",
      "monthCode       708844 non-null int64\n",
      "serviceId       708844 non-null int64\n",
      "userId          708844 non-null int64\n",
      "timeSpent       706235 non-null float64\n",
      "numberOfDays    708844 non-null int64\n",
      "year            708844 non-null int64\n",
      "month           708844 non-null int64\n",
      "ymd             708844 non-null object\n",
      "dtypes: float64(1), int64(7), object(1)\n",
      "memory usage: 48.7+ MB\n"
     ]
    }
   ],
   "source": [
    "#데이터 info 확인\n",
    "df.info()"
   ]
  },
  {
   "cell_type": "code",
   "execution_count": 16,
   "metadata": {},
   "outputs": [
    {
     "data": {
      "text/html": [
       "<div>\n",
       "<style scoped>\n",
       "    .dataframe tbody tr th:only-of-type {\n",
       "        vertical-align: middle;\n",
       "    }\n",
       "\n",
       "    .dataframe tbody tr th {\n",
       "        vertical-align: top;\n",
       "    }\n",
       "\n",
       "    .dataframe thead th {\n",
       "        text-align: right;\n",
       "    }\n",
       "</style>\n",
       "<table border=\"1\" class=\"dataframe\">\n",
       "  <thead>\n",
       "    <tr style=\"text-align: right;\">\n",
       "      <th></th>\n",
       "      <th>Unnamed: 0</th>\n",
       "      <th>monthCode</th>\n",
       "      <th>serviceId</th>\n",
       "      <th>userId</th>\n",
       "      <th>timeSpent</th>\n",
       "      <th>numberOfDays</th>\n",
       "      <th>year</th>\n",
       "      <th>month</th>\n",
       "      <th>ymd</th>\n",
       "    </tr>\n",
       "  </thead>\n",
       "  <tbody>\n",
       "    <tr>\n",
       "      <td>0</td>\n",
       "      <td>0</td>\n",
       "      <td>201112</td>\n",
       "      <td>13</td>\n",
       "      <td>59749</td>\n",
       "      <td>136.0</td>\n",
       "      <td>3</td>\n",
       "      <td>2011</td>\n",
       "      <td>12</td>\n",
       "      <td>2011-12-01</td>\n",
       "    </tr>\n",
       "    <tr>\n",
       "      <td>1</td>\n",
       "      <td>1</td>\n",
       "      <td>201112</td>\n",
       "      <td>14</td>\n",
       "      <td>15220</td>\n",
       "      <td>33.0</td>\n",
       "      <td>1</td>\n",
       "      <td>2011</td>\n",
       "      <td>12</td>\n",
       "      <td>2011-12-01</td>\n",
       "    </tr>\n",
       "    <tr>\n",
       "      <td>2</td>\n",
       "      <td>2</td>\n",
       "      <td>201112</td>\n",
       "      <td>14</td>\n",
       "      <td>15471</td>\n",
       "      <td>812.0</td>\n",
       "      <td>19</td>\n",
       "      <td>2011</td>\n",
       "      <td>12</td>\n",
       "      <td>2011-12-01</td>\n",
       "    </tr>\n",
       "    <tr>\n",
       "      <td>3</td>\n",
       "      <td>3</td>\n",
       "      <td>201112</td>\n",
       "      <td>14</td>\n",
       "      <td>15583</td>\n",
       "      <td>38.0</td>\n",
       "      <td>1</td>\n",
       "      <td>2011</td>\n",
       "      <td>12</td>\n",
       "      <td>2011-12-01</td>\n",
       "    </tr>\n",
       "    <tr>\n",
       "      <td>4</td>\n",
       "      <td>4</td>\n",
       "      <td>201112</td>\n",
       "      <td>14</td>\n",
       "      <td>15777</td>\n",
       "      <td>6.0</td>\n",
       "      <td>1</td>\n",
       "      <td>2011</td>\n",
       "      <td>12</td>\n",
       "      <td>2011-12-01</td>\n",
       "    </tr>\n",
       "    <tr>\n",
       "      <td>...</td>\n",
       "      <td>...</td>\n",
       "      <td>...</td>\n",
       "      <td>...</td>\n",
       "      <td>...</td>\n",
       "      <td>...</td>\n",
       "      <td>...</td>\n",
       "      <td>...</td>\n",
       "      <td>...</td>\n",
       "      <td>...</td>\n",
       "    </tr>\n",
       "    <tr>\n",
       "      <td>708839</td>\n",
       "      <td>708839</td>\n",
       "      <td>201102</td>\n",
       "      <td>19</td>\n",
       "      <td>8358</td>\n",
       "      <td>964.0</td>\n",
       "      <td>11</td>\n",
       "      <td>2011</td>\n",
       "      <td>2</td>\n",
       "      <td>2011-02-01</td>\n",
       "    </tr>\n",
       "    <tr>\n",
       "      <td>708840</td>\n",
       "      <td>708840</td>\n",
       "      <td>201102</td>\n",
       "      <td>19</td>\n",
       "      <td>8483</td>\n",
       "      <td>38.0</td>\n",
       "      <td>1</td>\n",
       "      <td>2011</td>\n",
       "      <td>2</td>\n",
       "      <td>2011-02-01</td>\n",
       "    </tr>\n",
       "    <tr>\n",
       "      <td>708841</td>\n",
       "      <td>708841</td>\n",
       "      <td>201101</td>\n",
       "      <td>22</td>\n",
       "      <td>44198</td>\n",
       "      <td>30.0</td>\n",
       "      <td>1</td>\n",
       "      <td>2011</td>\n",
       "      <td>1</td>\n",
       "      <td>2011-01-01</td>\n",
       "    </tr>\n",
       "    <tr>\n",
       "      <td>708842</td>\n",
       "      <td>708842</td>\n",
       "      <td>201101</td>\n",
       "      <td>22</td>\n",
       "      <td>44313</td>\n",
       "      <td>143.0</td>\n",
       "      <td>2</td>\n",
       "      <td>2011</td>\n",
       "      <td>1</td>\n",
       "      <td>2011-01-01</td>\n",
       "    </tr>\n",
       "    <tr>\n",
       "      <td>708843</td>\n",
       "      <td>708843</td>\n",
       "      <td>201101</td>\n",
       "      <td>22</td>\n",
       "      <td>44337</td>\n",
       "      <td>318.0</td>\n",
       "      <td>5</td>\n",
       "      <td>2011</td>\n",
       "      <td>1</td>\n",
       "      <td>2011-01-01</td>\n",
       "    </tr>\n",
       "  </tbody>\n",
       "</table>\n",
       "<p>708844 rows × 9 columns</p>\n",
       "</div>"
      ],
      "text/plain": [
       "        Unnamed: 0  monthCode  serviceId  userId  timeSpent  numberOfDays  \\\n",
       "0                0     201112         13   59749      136.0             3   \n",
       "1                1     201112         14   15220       33.0             1   \n",
       "2                2     201112         14   15471      812.0            19   \n",
       "3                3     201112         14   15583       38.0             1   \n",
       "4                4     201112         14   15777        6.0             1   \n",
       "...            ...        ...        ...     ...        ...           ...   \n",
       "708839      708839     201102         19    8358      964.0            11   \n",
       "708840      708840     201102         19    8483       38.0             1   \n",
       "708841      708841     201101         22   44198       30.0             1   \n",
       "708842      708842     201101         22   44313      143.0             2   \n",
       "708843      708843     201101         22   44337      318.0             5   \n",
       "\n",
       "        year  month         ymd  \n",
       "0       2011     12  2011-12-01  \n",
       "1       2011     12  2011-12-01  \n",
       "2       2011     12  2011-12-01  \n",
       "3       2011     12  2011-12-01  \n",
       "4       2011     12  2011-12-01  \n",
       "...      ...    ...         ...  \n",
       "708839  2011      2  2011-02-01  \n",
       "708840  2011      2  2011-02-01  \n",
       "708841  2011      1  2011-01-01  \n",
       "708842  2011      1  2011-01-01  \n",
       "708843  2011      1  2011-01-01  \n",
       "\n",
       "[708844 rows x 9 columns]"
      ]
     },
     "execution_count": 16,
     "metadata": {},
     "output_type": "execute_result"
    }
   ],
   "source": [
    "df"
   ]
  },
  {
   "cell_type": "markdown",
   "metadata": {},
   "source": [
    "<pre>\n",
    "결측값을 확인하고 처리하여 전처리과정을 거칩니다.\n",
    "</pre>"
   ]
  },
  {
   "cell_type": "code",
   "execution_count": 17,
   "metadata": {},
   "outputs": [
    {
     "data": {
      "text/plain": [
       "<matplotlib.axes._subplots.AxesSubplot at 0x7f6f2f86b2d0>"
      ]
     },
     "execution_count": 17,
     "metadata": {},
     "output_type": "execute_result"
    },
    {
     "data": {
      "image/png": "[encoded data removed]",
      "text/plain": [
       "<Figure size 864x360 with 2 Axes>"
      ]
     },
     "metadata": {
      "needs_background": "light"
     },
     "output_type": "display_data"
    }
   ],
   "source": [
    "#결측값 확인\n",
    "msno.matrix(df, figsize=(12,5))"
   ]
  },
  {
   "cell_type": "code",
   "execution_count": 18,
   "metadata": {},
   "outputs": [
    {
     "data": {
      "text/plain": [
       "Unnamed: 0         0\n",
       "monthCode          0\n",
       "serviceId          0\n",
       "userId             0\n",
       "timeSpent       2609\n",
       "numberOfDays       0\n",
       "year               0\n",
       "month              0\n",
       "ymd                0\n",
       "dtype: int64"
      ]
     },
     "execution_count": 18,
     "metadata": {},
     "output_type": "execute_result"
    }
   ],
   "source": [
    "#결측치 확인\n",
    "null_count = df.isnull().sum()\n",
    "null_count"
   ]
  },
  {
   "cell_type": "code",
   "execution_count": 19,
   "metadata": {},
   "outputs": [],
   "source": [
    "#df내 결측치 있는 row 처리\n",
    "df_t = df.dropna(axis=0)"
   ]
  },
  {
   "cell_type": "code",
   "execution_count": 20,
   "metadata": {},
   "outputs": [
    {
     "data": {
      "text/plain": [
       "Index(['Unnamed: 0', 'monthCode', 'serviceId', 'userId', 'timeSpent',\n",
       "       'numberOfDays', 'year', 'month', 'ymd'],\n",
       "      dtype='object')"
      ]
     },
     "execution_count": 20,
     "metadata": {},
     "output_type": "execute_result"
    }
   ],
   "source": [
    "df_t.columns"
   ]
  },
  {
   "cell_type": "code",
   "execution_count": 21,
   "metadata": {},
   "outputs": [],
   "source": [
    "df_t_drop = df.drop(['Unnamed: 0','monthCode','year','ymd'], axis = 1)"
   ]
  },
  {
   "cell_type": "code",
   "execution_count": 22,
   "metadata": {},
   "outputs": [
    {
     "data": {
      "text/html": [
       "<div>\n",
       "<style scoped>\n",
       "    .dataframe tbody tr th:only-of-type {\n",
       "        vertical-align: middle;\n",
       "    }\n",
       "\n",
       "    .dataframe tbody tr th {\n",
       "        vertical-align: top;\n",
       "    }\n",
       "\n",
       "    .dataframe thead th {\n",
       "        text-align: right;\n",
       "    }\n",
       "</style>\n",
       "<table border=\"1\" class=\"dataframe\">\n",
       "  <thead>\n",
       "    <tr style=\"text-align: right;\">\n",
       "      <th></th>\n",
       "      <th>Unnamed: 0</th>\n",
       "      <th>monthCode</th>\n",
       "      <th>serviceId</th>\n",
       "      <th>userId</th>\n",
       "      <th>timeSpent</th>\n",
       "      <th>numberOfDays</th>\n",
       "      <th>year</th>\n",
       "      <th>month</th>\n",
       "      <th>ymd</th>\n",
       "    </tr>\n",
       "  </thead>\n",
       "  <tbody>\n",
       "    <tr>\n",
       "      <td>0</td>\n",
       "      <td>0</td>\n",
       "      <td>201112</td>\n",
       "      <td>13</td>\n",
       "      <td>59749</td>\n",
       "      <td>136.0</td>\n",
       "      <td>3</td>\n",
       "      <td>2011</td>\n",
       "      <td>12</td>\n",
       "      <td>2011-12-01</td>\n",
       "    </tr>\n",
       "    <tr>\n",
       "      <td>1</td>\n",
       "      <td>1</td>\n",
       "      <td>201112</td>\n",
       "      <td>14</td>\n",
       "      <td>15220</td>\n",
       "      <td>33.0</td>\n",
       "      <td>1</td>\n",
       "      <td>2011</td>\n",
       "      <td>12</td>\n",
       "      <td>2011-12-01</td>\n",
       "    </tr>\n",
       "    <tr>\n",
       "      <td>2</td>\n",
       "      <td>2</td>\n",
       "      <td>201112</td>\n",
       "      <td>14</td>\n",
       "      <td>15471</td>\n",
       "      <td>812.0</td>\n",
       "      <td>19</td>\n",
       "      <td>2011</td>\n",
       "      <td>12</td>\n",
       "      <td>2011-12-01</td>\n",
       "    </tr>\n",
       "    <tr>\n",
       "      <td>3</td>\n",
       "      <td>3</td>\n",
       "      <td>201112</td>\n",
       "      <td>14</td>\n",
       "      <td>15583</td>\n",
       "      <td>38.0</td>\n",
       "      <td>1</td>\n",
       "      <td>2011</td>\n",
       "      <td>12</td>\n",
       "      <td>2011-12-01</td>\n",
       "    </tr>\n",
       "    <tr>\n",
       "      <td>4</td>\n",
       "      <td>4</td>\n",
       "      <td>201112</td>\n",
       "      <td>14</td>\n",
       "      <td>15777</td>\n",
       "      <td>6.0</td>\n",
       "      <td>1</td>\n",
       "      <td>2011</td>\n",
       "      <td>12</td>\n",
       "      <td>2011-12-01</td>\n",
       "    </tr>\n",
       "    <tr>\n",
       "      <td>...</td>\n",
       "      <td>...</td>\n",
       "      <td>...</td>\n",
       "      <td>...</td>\n",
       "      <td>...</td>\n",
       "      <td>...</td>\n",
       "      <td>...</td>\n",
       "      <td>...</td>\n",
       "      <td>...</td>\n",
       "      <td>...</td>\n",
       "    </tr>\n",
       "    <tr>\n",
       "      <td>708839</td>\n",
       "      <td>708839</td>\n",
       "      <td>201102</td>\n",
       "      <td>19</td>\n",
       "      <td>8358</td>\n",
       "      <td>964.0</td>\n",
       "      <td>11</td>\n",
       "      <td>2011</td>\n",
       "      <td>2</td>\n",
       "      <td>2011-02-01</td>\n",
       "    </tr>\n",
       "    <tr>\n",
       "      <td>708840</td>\n",
       "      <td>708840</td>\n",
       "      <td>201102</td>\n",
       "      <td>19</td>\n",
       "      <td>8483</td>\n",
       "      <td>38.0</td>\n",
       "      <td>1</td>\n",
       "      <td>2011</td>\n",
       "      <td>2</td>\n",
       "      <td>2011-02-01</td>\n",
       "    </tr>\n",
       "    <tr>\n",
       "      <td>708841</td>\n",
       "      <td>708841</td>\n",
       "      <td>201101</td>\n",
       "      <td>22</td>\n",
       "      <td>44198</td>\n",
       "      <td>30.0</td>\n",
       "      <td>1</td>\n",
       "      <td>2011</td>\n",
       "      <td>1</td>\n",
       "      <td>2011-01-01</td>\n",
       "    </tr>\n",
       "    <tr>\n",
       "      <td>708842</td>\n",
       "      <td>708842</td>\n",
       "      <td>201101</td>\n",
       "      <td>22</td>\n",
       "      <td>44313</td>\n",
       "      <td>143.0</td>\n",
       "      <td>2</td>\n",
       "      <td>2011</td>\n",
       "      <td>1</td>\n",
       "      <td>2011-01-01</td>\n",
       "    </tr>\n",
       "    <tr>\n",
       "      <td>708843</td>\n",
       "      <td>708843</td>\n",
       "      <td>201101</td>\n",
       "      <td>22</td>\n",
       "      <td>44337</td>\n",
       "      <td>318.0</td>\n",
       "      <td>5</td>\n",
       "      <td>2011</td>\n",
       "      <td>1</td>\n",
       "      <td>2011-01-01</td>\n",
       "    </tr>\n",
       "  </tbody>\n",
       "</table>\n",
       "<p>706235 rows × 9 columns</p>\n",
       "</div>"
      ],
      "text/plain": [
       "        Unnamed: 0  monthCode  serviceId  userId  timeSpent  numberOfDays  \\\n",
       "0                0     201112         13   59749      136.0             3   \n",
       "1                1     201112         14   15220       33.0             1   \n",
       "2                2     201112         14   15471      812.0            19   \n",
       "3                3     201112         14   15583       38.0             1   \n",
       "4                4     201112         14   15777        6.0             1   \n",
       "...            ...        ...        ...     ...        ...           ...   \n",
       "708839      708839     201102         19    8358      964.0            11   \n",
       "708840      708840     201102         19    8483       38.0             1   \n",
       "708841      708841     201101         22   44198       30.0             1   \n",
       "708842      708842     201101         22   44313      143.0             2   \n",
       "708843      708843     201101         22   44337      318.0             5   \n",
       "\n",
       "        year  month         ymd  \n",
       "0       2011     12  2011-12-01  \n",
       "1       2011     12  2011-12-01  \n",
       "2       2011     12  2011-12-01  \n",
       "3       2011     12  2011-12-01  \n",
       "4       2011     12  2011-12-01  \n",
       "...      ...    ...         ...  \n",
       "708839  2011      2  2011-02-01  \n",
       "708840  2011      2  2011-02-01  \n",
       "708841  2011      1  2011-01-01  \n",
       "708842  2011      1  2011-01-01  \n",
       "708843  2011      1  2011-01-01  \n",
       "\n",
       "[706235 rows x 9 columns]"
      ]
     },
     "execution_count": 22,
     "metadata": {},
     "output_type": "execute_result"
    }
   ],
   "source": [
    "df_t"
   ]
  },
  {
   "cell_type": "code",
   "execution_count": 23,
   "metadata": {},
   "outputs": [
    {
     "data": {
      "text/plain": [
       "Unnamed: 0      0\n",
       "monthCode       0\n",
       "serviceId       0\n",
       "userId          0\n",
       "timeSpent       0\n",
       "numberOfDays    0\n",
       "year            0\n",
       "month           0\n",
       "ymd             0\n",
       "dtype: int64"
      ]
     },
     "execution_count": 23,
     "metadata": {},
     "output_type": "execute_result"
    }
   ],
   "source": [
    "#결측치 재 확인\n",
    "null_count_2 = df_t.isnull().sum()\n",
    "null_count_2"
   ]
  },
  {
   "cell_type": "code",
   "execution_count": 24,
   "metadata": {},
   "outputs": [
    {
     "name": "stdout",
     "output_type": "stream",
     "text": [
      "<class 'pandas.core.frame.DataFrame'>\n",
      "Int64Index: 706235 entries, 0 to 708843\n",
      "Data columns (total 9 columns):\n",
      "Unnamed: 0      706235 non-null int64\n",
      "monthCode       706235 non-null int64\n",
      "serviceId       706235 non-null int64\n",
      "userId          706235 non-null int64\n",
      "timeSpent       706235 non-null float64\n",
      "numberOfDays    706235 non-null int64\n",
      "year            706235 non-null int64\n",
      "month           706235 non-null int64\n",
      "ymd             706235 non-null object\n",
      "dtypes: float64(1), int64(7), object(1)\n",
      "memory usage: 53.9+ MB\n"
     ]
    }
   ],
   "source": [
    "df_t.info()"
   ]
  },
  {
   "cell_type": "code",
   "execution_count": 25,
   "metadata": {},
   "outputs": [
    {
     "data": {
      "text/plain": [
       "count    706235.000000\n",
       "mean        701.656691\n",
       "std        1860.746967\n",
       "min           0.000000\n",
       "25%          30.000000\n",
       "50%         112.000000\n",
       "75%         562.000000\n",
       "max      153469.000000\n",
       "Name: timeSpent, dtype: float64"
      ]
     },
     "execution_count": 25,
     "metadata": {},
     "output_type": "execute_result"
    }
   ],
   "source": [
    "df_t['timeSpent'].describe()"
   ]
  },
  {
   "cell_type": "code",
   "execution_count": 26,
   "metadata": {},
   "outputs": [
    {
     "data": {
      "text/plain": [
       "12    72919\n",
       "8     65219\n",
       "7     64971\n",
       "1     64114\n",
       "2     60187\n",
       "11    59361\n",
       "9     58543\n",
       "10    56428\n",
       "6     54143\n",
       "5     54138\n",
       "3     51259\n",
       "4     44953\n",
       "Name: month, dtype: int64"
      ]
     },
     "execution_count": 26,
     "metadata": {},
     "output_type": "execute_result"
    }
   ],
   "source": [
    "df_t['month'].value_counts()"
   ]
  },
  {
   "cell_type": "code",
   "execution_count": 27,
   "metadata": {},
   "outputs": [
    {
     "data": {
      "text/plain": [
       "12    0.103250\n",
       "8     0.092347\n",
       "7     0.091996\n",
       "1     0.090783\n",
       "2     0.085222\n",
       "11    0.084053\n",
       "9     0.082895\n",
       "10    0.079900\n",
       "6     0.076664\n",
       "5     0.076657\n",
       "3     0.072581\n",
       "4     0.063652\n",
       "Name: month, dtype: float64"
      ]
     },
     "execution_count": 27,
     "metadata": {},
     "output_type": "execute_result"
    }
   ],
   "source": [
    "df_t['month'].value_counts(normalize=True)"
   ]
  },
  {
   "cell_type": "code",
   "execution_count": 28,
   "metadata": {},
   "outputs": [],
   "source": [
    "month_normalize = df_t['month'].value_counts(normalize=True)"
   ]
  },
  {
   "cell_type": "code",
   "execution_count": 29,
   "metadata": {},
   "outputs": [
    {
     "data": {
      "text/plain": [
       "<matplotlib.axes._subplots.AxesSubplot at 0x7f6f57a24850>"
      ]
     },
     "execution_count": 29,
     "metadata": {},
     "output_type": "execute_result"
    },
    {
     "data": {
      "image/png": "[encoded data removed]",
      "text/plain": [
       "<Figure size 432x288 with 1 Axes>"
      ]
     },
     "metadata": {
      "needs_background": "light"
     },
     "output_type": "display_data"
    }
   ],
   "source": [
    "month_normalize.plot.barh()"
   ]
  },
  {
   "cell_type": "code",
   "execution_count": 30,
   "metadata": {},
   "outputs": [
    {
     "data": {
      "text/plain": [
       "<matplotlib.axes._subplots.AxesSubplot at 0x7f6f645527d0>"
      ]
     },
     "execution_count": 30,
     "metadata": {},
     "output_type": "execute_result"
    },
    {
     "data": {
      "image/png": "[encoded data removed]",
      "text/plain": [
       "<Figure size 504x504 with 1 Axes>"
      ]
     },
     "metadata": {},
     "output_type": "display_data"
    }
   ],
   "source": [
    "df_t['serviceId'].value_counts(normalize=True).plot.pie(figsize = (7,7))"
   ]
  },
  {
   "cell_type": "code",
   "execution_count": 31,
   "metadata": {},
   "outputs": [
    {
     "data": {
      "text/plain": [
       "<matplotlib.axes._subplots.AxesSubplot at 0x7f6f64494f10>"
      ]
     },
     "execution_count": 31,
     "metadata": {},
     "output_type": "execute_result"
    },
    {
     "data": {
      "image/png": "[encoded data removed]",
      "text/plain": [
       "<Figure size 432x288 with 1 Axes>"
      ]
     },
     "metadata": {
      "needs_background": "light"
     },
     "output_type": "display_data"
    }
   ],
   "source": [
    "sns.lineplot(data=df_t, y = 'timeSpent' , x = 'serviceId')"
   ]
  },
  {
   "cell_type": "code",
   "execution_count": 32,
   "metadata": {},
   "outputs": [
    {
     "data": {
      "text/plain": [
       "Index(['Unnamed: 0', 'monthCode', 'serviceId', 'userId', 'timeSpent',\n",
       "       'numberOfDays', 'year', 'month', 'ymd'],\n",
       "      dtype='object')"
      ]
     },
     "execution_count": 32,
     "metadata": {},
     "output_type": "execute_result"
    }
   ],
   "source": [
    "df_t.columns"
   ]
  },
  {
   "cell_type": "code",
   "execution_count": 33,
   "metadata": {},
   "outputs": [
    {
     "data": {
      "text/plain": [
       "<matplotlib.axes._subplots.AxesSubplot at 0x7f6f6442f110>"
      ]
     },
     "execution_count": 33,
     "metadata": {},
     "output_type": "execute_result"
    },
    {
     "data": {
      "image/png": "[encoded data removed]",
      "text/plain": [
       "<Figure size 432x288 with 1 Axes>"
      ]
     },
     "metadata": {
      "needs_background": "light"
     },
     "output_type": "display_data"
    }
   ],
   "source": [
    "sns.distplot(df_t['serviceId'],rug=True)"
   ]
  },
  {
   "cell_type": "code",
   "execution_count": 34,
   "metadata": {},
   "outputs": [
    {
     "data": {
      "text/html": [
       "<div>\n",
       "<style scoped>\n",
       "    .dataframe tbody tr th:only-of-type {\n",
       "        vertical-align: middle;\n",
       "    }\n",
       "\n",
       "    .dataframe tbody tr th {\n",
       "        vertical-align: top;\n",
       "    }\n",
       "\n",
       "    .dataframe thead th {\n",
       "        text-align: right;\n",
       "    }\n",
       "</style>\n",
       "<table border=\"1\" class=\"dataframe\">\n",
       "  <thead>\n",
       "    <tr style=\"text-align: right;\">\n",
       "      <th></th>\n",
       "      <th>Unnamed: 0</th>\n",
       "      <th>monthCode</th>\n",
       "      <th>serviceId</th>\n",
       "      <th>userId</th>\n",
       "      <th>timeSpent</th>\n",
       "      <th>numberOfDays</th>\n",
       "      <th>year</th>\n",
       "      <th>month</th>\n",
       "    </tr>\n",
       "  </thead>\n",
       "  <tbody>\n",
       "    <tr>\n",
       "      <td>count</td>\n",
       "      <td>706235.000000</td>\n",
       "      <td>706235.000000</td>\n",
       "      <td>706235.000000</td>\n",
       "      <td>706235.00000</td>\n",
       "      <td>706235.000000</td>\n",
       "      <td>706235.000000</td>\n",
       "      <td>706235.0</td>\n",
       "      <td>706235.000000</td>\n",
       "    </tr>\n",
       "    <tr>\n",
       "      <td>mean</td>\n",
       "      <td>354425.700973</td>\n",
       "      <td>201106.668234</td>\n",
       "      <td>12.244482</td>\n",
       "      <td>33095.85064</td>\n",
       "      <td>701.656691</td>\n",
       "      <td>5.941085</td>\n",
       "      <td>2011.0</td>\n",
       "      <td>6.668234</td>\n",
       "    </tr>\n",
       "    <tr>\n",
       "      <td>std</td>\n",
       "      <td>204618.694237</td>\n",
       "      <td>3.532034</td>\n",
       "      <td>8.124344</td>\n",
       "      <td>19273.49482</td>\n",
       "      <td>1860.746967</td>\n",
       "      <td>7.086393</td>\n",
       "      <td>0.0</td>\n",
       "      <td>3.532034</td>\n",
       "    </tr>\n",
       "    <tr>\n",
       "      <td>min</td>\n",
       "      <td>0.000000</td>\n",
       "      <td>201101.000000</td>\n",
       "      <td>1.000000</td>\n",
       "      <td>1.00000</td>\n",
       "      <td>0.000000</td>\n",
       "      <td>1.000000</td>\n",
       "      <td>2011.0</td>\n",
       "      <td>1.000000</td>\n",
       "    </tr>\n",
       "    <tr>\n",
       "      <td>25%</td>\n",
       "      <td>177224.500000</td>\n",
       "      <td>201104.000000</td>\n",
       "      <td>4.000000</td>\n",
       "      <td>15600.00000</td>\n",
       "      <td>30.000000</td>\n",
       "      <td>1.000000</td>\n",
       "      <td>2011.0</td>\n",
       "      <td>4.000000</td>\n",
       "    </tr>\n",
       "    <tr>\n",
       "      <td>50%</td>\n",
       "      <td>354399.000000</td>\n",
       "      <td>201107.000000</td>\n",
       "      <td>14.000000</td>\n",
       "      <td>32318.00000</td>\n",
       "      <td>112.000000</td>\n",
       "      <td>3.000000</td>\n",
       "      <td>2011.0</td>\n",
       "      <td>7.000000</td>\n",
       "    </tr>\n",
       "    <tr>\n",
       "      <td>75%</td>\n",
       "      <td>531622.500000</td>\n",
       "      <td>201110.000000</td>\n",
       "      <td>19.000000</td>\n",
       "      <td>51034.00000</td>\n",
       "      <td>562.000000</td>\n",
       "      <td>8.000000</td>\n",
       "      <td>2011.0</td>\n",
       "      <td>10.000000</td>\n",
       "    </tr>\n",
       "    <tr>\n",
       "      <td>max</td>\n",
       "      <td>708843.000000</td>\n",
       "      <td>201112.000000</td>\n",
       "      <td>22.000000</td>\n",
       "      <td>65143.00000</td>\n",
       "      <td>153469.000000</td>\n",
       "      <td>31.000000</td>\n",
       "      <td>2011.0</td>\n",
       "      <td>12.000000</td>\n",
       "    </tr>\n",
       "  </tbody>\n",
       "</table>\n",
       "</div>"
      ],
      "text/plain": [
       "          Unnamed: 0      monthCode      serviceId        userId  \\\n",
       "count  706235.000000  706235.000000  706235.000000  706235.00000   \n",
       "mean   354425.700973  201106.668234      12.244482   33095.85064   \n",
       "std    204618.694237       3.532034       8.124344   19273.49482   \n",
       "min         0.000000  201101.000000       1.000000       1.00000   \n",
       "25%    177224.500000  201104.000000       4.000000   15600.00000   \n",
       "50%    354399.000000  201107.000000      14.000000   32318.00000   \n",
       "75%    531622.500000  201110.000000      19.000000   51034.00000   \n",
       "max    708843.000000  201112.000000      22.000000   65143.00000   \n",
       "\n",
       "           timeSpent   numberOfDays      year          month  \n",
       "count  706235.000000  706235.000000  706235.0  706235.000000  \n",
       "mean      701.656691       5.941085    2011.0       6.668234  \n",
       "std      1860.746967       7.086393       0.0       3.532034  \n",
       "min         0.000000       1.000000    2011.0       1.000000  \n",
       "25%        30.000000       1.000000    2011.0       4.000000  \n",
       "50%       112.000000       3.000000    2011.0       7.000000  \n",
       "75%       562.000000       8.000000    2011.0      10.000000  \n",
       "max    153469.000000      31.000000    2011.0      12.000000  "
      ]
     },
     "execution_count": 34,
     "metadata": {},
     "output_type": "execute_result"
    }
   ],
   "source": [
    "df_t.describe()"
   ]
  },
  {
   "cell_type": "markdown",
   "metadata": {},
   "source": [
    "<pre>\n",
    "정제된 데이터의 desciption을 확인하고 시각화하여 데이터의 특징을 확인합니다.\n",
    "</pre>"
   ]
  },
  {
   "cell_type": "code",
   "execution_count": 35,
   "metadata": {},
   "outputs": [
    {
     "data": {
      "text/plain": [
       "<matplotlib.axes._subplots.AxesSubplot at 0x7f6f563d0f90>"
      ]
     },
     "execution_count": 35,
     "metadata": {},
     "output_type": "execute_result"
    },
    {
     "data": {
      "image/png": "[encoded data removed]",
      "text/plain": [
       "<Figure size 432x288 with 1 Axes>"
      ]
     },
     "metadata": {
      "needs_background": "light"
     },
     "output_type": "display_data"
    }
   ],
   "source": [
    "sns.barplot(data = df_t, x = 'serviceId', y = 'timeSpent')"
   ]
  },
  {
   "cell_type": "code",
   "execution_count": 36,
   "metadata": {},
   "outputs": [
    {
     "data": {
      "text/plain": [
       "<matplotlib.axes._subplots.AxesSubplot at 0x7f6f0be2c650>"
      ]
     },
     "execution_count": 36,
     "metadata": {},
     "output_type": "execute_result"
    },
    {
     "data": {
      "image/png": "[encoded data removed]",
      "text/plain": [
       "<Figure size 432x288 with 1 Axes>"
      ]
     },
     "metadata": {
      "needs_background": "light"
     },
     "output_type": "display_data"
    }
   ],
   "source": [
    "sns.countplot(x='serviceId', data = df_t)"
   ]
  },
  {
   "cell_type": "markdown",
   "metadata": {},
   "source": [
    "<pre>\n",
    "serviceId를 기준으로 그룹화 하여 timeSpent 변수의 description을 확인합니다.\n",
    "</pre>"
   ]
  },
  {
   "cell_type": "code",
   "execution_count": 37,
   "metadata": {},
   "outputs": [],
   "source": [
    "grouped = df_t['timeSpent'].groupby(df_t['serviceId'])"
   ]
  },
  {
   "cell_type": "code",
   "execution_count": 38,
   "metadata": {},
   "outputs": [
    {
     "data": {
      "text/plain": [
       "<pandas.core.groupby.generic.SeriesGroupBy object at 0x7f6f0bdfcb10>"
      ]
     },
     "execution_count": 38,
     "metadata": {},
     "output_type": "execute_result"
    }
   ],
   "source": [
    "grouped"
   ]
  },
  {
   "cell_type": "code",
   "execution_count": 39,
   "metadata": {},
   "outputs": [],
   "source": [
    "palette = sns.color_palette(\"muted\",22)"
   ]
  },
  {
   "cell_type": "code",
   "execution_count": 40,
   "metadata": {},
   "outputs": [
    {
     "data": {
      "image/png": "[encoded data removed]",
      "text/plain": [
       "<Figure size 720x72 with 1 Axes>"
      ]
     },
     "metadata": {
      "needs_background": "light"
     },
     "output_type": "display_data"
    }
   ],
   "source": [
    "current_palette = sns.color_palette()\n",
    "sns.palplot(current_palette)"
   ]
  },
  {
   "cell_type": "code",
   "execution_count": 41,
   "metadata": {},
   "outputs": [
    {
     "data": {
      "text/plain": [
       "<matplotlib.axes._subplots.AxesSubplot at 0x7f6f0bcedcd0>"
      ]
     },
     "execution_count": 41,
     "metadata": {},
     "output_type": "execute_result"
    },
    {
     "data": {
      "image/png": "[encoded data removed]",
      "text/plain": [
       "<Figure size 1440x504 with 1 Axes>"
      ]
     },
     "metadata": {
      "needs_background": "light"
     },
     "output_type": "display_data"
    }
   ],
   "source": [
    "fig, ax = plt.subplots()\n",
    "fig.set_size_inches(20,7)\n",
    "sns.set_palette(\"muted\",22)\n",
    "sns.pointplot(x = 'month' , y = 'timeSpent' , hue = 'serviceId', errwidth=0, data = df_t)"
   ]
  },
  {
   "cell_type": "code",
   "execution_count": 42,
   "metadata": {},
   "outputs": [
    {
     "data": {
      "text/plain": [
       "serviceId\n",
       "1     143760\n",
       "2        586\n",
       "3      11874\n",
       "4      68043\n",
       "5      38854\n",
       "6       4763\n",
       "7        515\n",
       "8        495\n",
       "9        464\n",
       "10      1718\n",
       "11      1330\n",
       "12     21952\n",
       "13     34138\n",
       "14     37914\n",
       "15     28589\n",
       "16      8594\n",
       "17      3685\n",
       "18       158\n",
       "19    165245\n",
       "20      8126\n",
       "21      3164\n",
       "22    122268\n",
       "Name: timeSpent, dtype: int64"
      ]
     },
     "execution_count": 42,
     "metadata": {},
     "output_type": "execute_result"
    }
   ],
   "source": [
    "grouped.size()"
   ]
  },
  {
   "cell_type": "code",
   "execution_count": null,
   "metadata": {},
   "outputs": [],
   "source": [
    "df_trans_val1 = df_group_sum.transpose()"
   ]
  },
  {
   "cell_type": "code",
   "execution_count": null,
   "metadata": {},
   "outputs": [],
   "source": [
    "df_trans_val1"
   ]
  },
  {
   "cell_type": "code",
   "execution_count": 50,
   "metadata": {},
   "outputs": [
    {
     "data": {
      "text/plain": [
       "serviceId\n",
       "1      384.328506\n",
       "2      574.116041\n",
       "3     2315.159424\n",
       "4      820.001558\n",
       "5      380.576337\n",
       "6     1292.995591\n",
       "7     1339.671845\n",
       "8     1034.151515\n",
       "9     3427.993534\n",
       "10    1662.862631\n",
       "11     292.906015\n",
       "12     853.901148\n",
       "13     426.555598\n",
       "14     517.302131\n",
       "15     655.462975\n",
       "16     752.567838\n",
       "17     642.818182\n",
       "18     424.227848\n",
       "19     921.375255\n",
       "20     929.524735\n",
       "21     205.343236\n",
       "22     725.124571\n",
       "Name: timeSpent, dtype: float64"
      ]
     },
     "execution_count": 50,
     "metadata": {},
     "output_type": "execute_result"
    }
   ],
   "source": [
    "grouped.mean()"
   ]
  },
  {
   "cell_type": "code",
   "execution_count": 51,
   "metadata": {},
   "outputs": [
    {
     "data": {
      "text/plain": [
       "serviceId\n",
       "1      55.0\n",
       "2     109.0\n",
       "3      58.0\n",
       "4     151.0\n",
       "5      55.0\n",
       "6      40.0\n",
       "7      29.0\n",
       "8       8.0\n",
       "9      67.0\n",
       "10     79.5\n",
       "11     44.0\n",
       "12    165.0\n",
       "13     67.0\n",
       "14    104.0\n",
       "15     83.0\n",
       "16     89.0\n",
       "17    110.0\n",
       "18     13.5\n",
       "19    193.0\n",
       "20    117.0\n",
       "21     49.0\n",
       "22    226.0\n",
       "Name: timeSpent, dtype: float64"
      ]
     },
     "execution_count": 51,
     "metadata": {},
     "output_type": "execute_result"
    }
   ],
   "source": [
    "grouped.median()"
   ]
  },
  {
   "cell_type": "code",
   "execution_count": 52,
   "metadata": {},
   "outputs": [],
   "source": [
    "group_desc = grouped.describe()"
   ]
  },
  {
   "cell_type": "code",
   "execution_count": 53,
   "metadata": {},
   "outputs": [
    {
     "data": {
      "text/html": [
       "<div>\n",
       "<style scoped>\n",
       "    .dataframe tbody tr th:only-of-type {\n",
       "        vertical-align: middle;\n",
       "    }\n",
       "\n",
       "    .dataframe tbody tr th {\n",
       "        vertical-align: top;\n",
       "    }\n",
       "\n",
       "    .dataframe thead th {\n",
       "        text-align: right;\n",
       "    }\n",
       "</style>\n",
       "<table border=\"1\" class=\"dataframe\">\n",
       "  <thead>\n",
       "    <tr style=\"text-align: right;\">\n",
       "      <th></th>\n",
       "      <th>count</th>\n",
       "      <th>mean</th>\n",
       "      <th>std</th>\n",
       "      <th>min</th>\n",
       "      <th>25%</th>\n",
       "      <th>50%</th>\n",
       "      <th>75%</th>\n",
       "      <th>max</th>\n",
       "    </tr>\n",
       "    <tr>\n",
       "      <th>serviceId</th>\n",
       "      <th></th>\n",
       "      <th></th>\n",
       "      <th></th>\n",
       "      <th></th>\n",
       "      <th></th>\n",
       "      <th></th>\n",
       "      <th></th>\n",
       "      <th></th>\n",
       "    </tr>\n",
       "  </thead>\n",
       "  <tbody>\n",
       "    <tr>\n",
       "      <td>1</td>\n",
       "      <td>143760.0</td>\n",
       "      <td>384.328506</td>\n",
       "      <td>1501.968473</td>\n",
       "      <td>0.0</td>\n",
       "      <td>21.0</td>\n",
       "      <td>55.0</td>\n",
       "      <td>199.00</td>\n",
       "      <td>42945.0</td>\n",
       "    </tr>\n",
       "    <tr>\n",
       "      <td>2</td>\n",
       "      <td>586.0</td>\n",
       "      <td>574.116041</td>\n",
       "      <td>1392.419202</td>\n",
       "      <td>0.0</td>\n",
       "      <td>35.0</td>\n",
       "      <td>109.0</td>\n",
       "      <td>435.50</td>\n",
       "      <td>14655.0</td>\n",
       "    </tr>\n",
       "    <tr>\n",
       "      <td>3</td>\n",
       "      <td>11874.0</td>\n",
       "      <td>2315.159424</td>\n",
       "      <td>5392.904531</td>\n",
       "      <td>0.0</td>\n",
       "      <td>2.0</td>\n",
       "      <td>58.0</td>\n",
       "      <td>1702.75</td>\n",
       "      <td>41175.0</td>\n",
       "    </tr>\n",
       "    <tr>\n",
       "      <td>4</td>\n",
       "      <td>68043.0</td>\n",
       "      <td>820.001558</td>\n",
       "      <td>1922.948214</td>\n",
       "      <td>0.0</td>\n",
       "      <td>20.0</td>\n",
       "      <td>151.0</td>\n",
       "      <td>793.00</td>\n",
       "      <td>40597.0</td>\n",
       "    </tr>\n",
       "    <tr>\n",
       "      <td>5</td>\n",
       "      <td>38854.0</td>\n",
       "      <td>380.576337</td>\n",
       "      <td>1814.849555</td>\n",
       "      <td>0.0</td>\n",
       "      <td>19.0</td>\n",
       "      <td>55.0</td>\n",
       "      <td>186.00</td>\n",
       "      <td>81897.0</td>\n",
       "    </tr>\n",
       "    <tr>\n",
       "      <td>6</td>\n",
       "      <td>4763.0</td>\n",
       "      <td>1292.995591</td>\n",
       "      <td>4777.842962</td>\n",
       "      <td>0.0</td>\n",
       "      <td>5.0</td>\n",
       "      <td>40.0</td>\n",
       "      <td>428.50</td>\n",
       "      <td>115269.0</td>\n",
       "    </tr>\n",
       "    <tr>\n",
       "      <td>7</td>\n",
       "      <td>515.0</td>\n",
       "      <td>1339.671845</td>\n",
       "      <td>3951.912505</td>\n",
       "      <td>0.0</td>\n",
       "      <td>3.0</td>\n",
       "      <td>29.0</td>\n",
       "      <td>454.00</td>\n",
       "      <td>46118.0</td>\n",
       "    </tr>\n",
       "    <tr>\n",
       "      <td>8</td>\n",
       "      <td>495.0</td>\n",
       "      <td>1034.151515</td>\n",
       "      <td>3575.677751</td>\n",
       "      <td>0.0</td>\n",
       "      <td>1.0</td>\n",
       "      <td>8.0</td>\n",
       "      <td>137.00</td>\n",
       "      <td>32079.0</td>\n",
       "    </tr>\n",
       "    <tr>\n",
       "      <td>9</td>\n",
       "      <td>464.0</td>\n",
       "      <td>3427.993534</td>\n",
       "      <td>12347.614827</td>\n",
       "      <td>0.0</td>\n",
       "      <td>10.0</td>\n",
       "      <td>67.0</td>\n",
       "      <td>928.25</td>\n",
       "      <td>153469.0</td>\n",
       "    </tr>\n",
       "    <tr>\n",
       "      <td>10</td>\n",
       "      <td>1718.0</td>\n",
       "      <td>1662.862631</td>\n",
       "      <td>4544.070706</td>\n",
       "      <td>0.0</td>\n",
       "      <td>11.0</td>\n",
       "      <td>79.5</td>\n",
       "      <td>978.50</td>\n",
       "      <td>37737.0</td>\n",
       "    </tr>\n",
       "    <tr>\n",
       "      <td>11</td>\n",
       "      <td>1330.0</td>\n",
       "      <td>292.906015</td>\n",
       "      <td>993.260172</td>\n",
       "      <td>0.0</td>\n",
       "      <td>15.0</td>\n",
       "      <td>44.0</td>\n",
       "      <td>153.50</td>\n",
       "      <td>13528.0</td>\n",
       "    </tr>\n",
       "    <tr>\n",
       "      <td>12</td>\n",
       "      <td>21952.0</td>\n",
       "      <td>853.901148</td>\n",
       "      <td>1686.404510</td>\n",
       "      <td>0.0</td>\n",
       "      <td>33.0</td>\n",
       "      <td>165.0</td>\n",
       "      <td>863.00</td>\n",
       "      <td>25105.0</td>\n",
       "    </tr>\n",
       "    <tr>\n",
       "      <td>13</td>\n",
       "      <td>34138.0</td>\n",
       "      <td>426.555598</td>\n",
       "      <td>1165.872209</td>\n",
       "      <td>0.0</td>\n",
       "      <td>25.0</td>\n",
       "      <td>67.0</td>\n",
       "      <td>263.00</td>\n",
       "      <td>38272.0</td>\n",
       "    </tr>\n",
       "    <tr>\n",
       "      <td>14</td>\n",
       "      <td>37914.0</td>\n",
       "      <td>517.302131</td>\n",
       "      <td>1050.354223</td>\n",
       "      <td>0.0</td>\n",
       "      <td>29.0</td>\n",
       "      <td>104.0</td>\n",
       "      <td>505.00</td>\n",
       "      <td>33150.0</td>\n",
       "    </tr>\n",
       "    <tr>\n",
       "      <td>15</td>\n",
       "      <td>28589.0</td>\n",
       "      <td>655.462975</td>\n",
       "      <td>1654.258027</td>\n",
       "      <td>0.0</td>\n",
       "      <td>10.0</td>\n",
       "      <td>83.0</td>\n",
       "      <td>566.00</td>\n",
       "      <td>32782.0</td>\n",
       "    </tr>\n",
       "    <tr>\n",
       "      <td>16</td>\n",
       "      <td>8594.0</td>\n",
       "      <td>752.567838</td>\n",
       "      <td>1899.318585</td>\n",
       "      <td>0.0</td>\n",
       "      <td>14.0</td>\n",
       "      <td>89.0</td>\n",
       "      <td>577.00</td>\n",
       "      <td>22267.0</td>\n",
       "    </tr>\n",
       "    <tr>\n",
       "      <td>17</td>\n",
       "      <td>3685.0</td>\n",
       "      <td>642.818182</td>\n",
       "      <td>1492.702692</td>\n",
       "      <td>0.0</td>\n",
       "      <td>24.0</td>\n",
       "      <td>110.0</td>\n",
       "      <td>490.00</td>\n",
       "      <td>15347.0</td>\n",
       "    </tr>\n",
       "    <tr>\n",
       "      <td>18</td>\n",
       "      <td>158.0</td>\n",
       "      <td>424.227848</td>\n",
       "      <td>1620.052688</td>\n",
       "      <td>1.0</td>\n",
       "      <td>4.0</td>\n",
       "      <td>13.5</td>\n",
       "      <td>57.25</td>\n",
       "      <td>10695.0</td>\n",
       "    </tr>\n",
       "    <tr>\n",
       "      <td>19</td>\n",
       "      <td>165245.0</td>\n",
       "      <td>921.375255</td>\n",
       "      <td>1873.131998</td>\n",
       "      <td>0.0</td>\n",
       "      <td>56.0</td>\n",
       "      <td>193.0</td>\n",
       "      <td>862.00</td>\n",
       "      <td>33921.0</td>\n",
       "    </tr>\n",
       "    <tr>\n",
       "      <td>20</td>\n",
       "      <td>8126.0</td>\n",
       "      <td>929.524735</td>\n",
       "      <td>2086.933437</td>\n",
       "      <td>0.0</td>\n",
       "      <td>32.0</td>\n",
       "      <td>117.0</td>\n",
       "      <td>706.75</td>\n",
       "      <td>37404.0</td>\n",
       "    </tr>\n",
       "    <tr>\n",
       "      <td>21</td>\n",
       "      <td>3164.0</td>\n",
       "      <td>205.343236</td>\n",
       "      <td>690.277959</td>\n",
       "      <td>0.0</td>\n",
       "      <td>22.0</td>\n",
       "      <td>49.0</td>\n",
       "      <td>137.00</td>\n",
       "      <td>12120.0</td>\n",
       "    </tr>\n",
       "    <tr>\n",
       "      <td>22</td>\n",
       "      <td>122268.0</td>\n",
       "      <td>725.124571</td>\n",
       "      <td>1304.501008</td>\n",
       "      <td>0.0</td>\n",
       "      <td>53.0</td>\n",
       "      <td>226.0</td>\n",
       "      <td>867.00</td>\n",
       "      <td>49801.0</td>\n",
       "    </tr>\n",
       "  </tbody>\n",
       "</table>\n",
       "</div>"
      ],
      "text/plain": [
       "              count         mean           std  min   25%    50%      75%  \\\n",
       "serviceId                                                                   \n",
       "1          143760.0   384.328506   1501.968473  0.0  21.0   55.0   199.00   \n",
       "2             586.0   574.116041   1392.419202  0.0  35.0  109.0   435.50   \n",
       "3           11874.0  2315.159424   5392.904531  0.0   2.0   58.0  1702.75   \n",
       "4           68043.0   820.001558   1922.948214  0.0  20.0  151.0   793.00   \n",
       "5           38854.0   380.576337   1814.849555  0.0  19.0   55.0   186.00   \n",
       "6            4763.0  1292.995591   4777.842962  0.0   5.0   40.0   428.50   \n",
       "7             515.0  1339.671845   3951.912505  0.0   3.0   29.0   454.00   \n",
       "8             495.0  1034.151515   3575.677751  0.0   1.0    8.0   137.00   \n",
       "9             464.0  3427.993534  12347.614827  0.0  10.0   67.0   928.25   \n",
       "10           1718.0  1662.862631   4544.070706  0.0  11.0   79.5   978.50   \n",
       "11           1330.0   292.906015    993.260172  0.0  15.0   44.0   153.50   \n",
       "12          21952.0   853.901148   1686.404510  0.0  33.0  165.0   863.00   \n",
       "13          34138.0   426.555598   1165.872209  0.0  25.0   67.0   263.00   \n",
       "14          37914.0   517.302131   1050.354223  0.0  29.0  104.0   505.00   \n",
       "15          28589.0   655.462975   1654.258027  0.0  10.0   83.0   566.00   \n",
       "16           8594.0   752.567838   1899.318585  0.0  14.0   89.0   577.00   \n",
       "17           3685.0   642.818182   1492.702692  0.0  24.0  110.0   490.00   \n",
       "18            158.0   424.227848   1620.052688  1.0   4.0   13.5    57.25   \n",
       "19         165245.0   921.375255   1873.131998  0.0  56.0  193.0   862.00   \n",
       "20           8126.0   929.524735   2086.933437  0.0  32.0  117.0   706.75   \n",
       "21           3164.0   205.343236    690.277959  0.0  22.0   49.0   137.00   \n",
       "22         122268.0   725.124571   1304.501008  0.0  53.0  226.0   867.00   \n",
       "\n",
       "                max  \n",
       "serviceId            \n",
       "1           42945.0  \n",
       "2           14655.0  \n",
       "3           41175.0  \n",
       "4           40597.0  \n",
       "5           81897.0  \n",
       "6          115269.0  \n",
       "7           46118.0  \n",
       "8           32079.0  \n",
       "9          153469.0  \n",
       "10          37737.0  \n",
       "11          13528.0  \n",
       "12          25105.0  \n",
       "13          38272.0  \n",
       "14          33150.0  \n",
       "15          32782.0  \n",
       "16          22267.0  \n",
       "17          15347.0  \n",
       "18          10695.0  \n",
       "19          33921.0  \n",
       "20          37404.0  \n",
       "21          12120.0  \n",
       "22          49801.0  "
      ]
     },
     "execution_count": 53,
     "metadata": {},
     "output_type": "execute_result"
    }
   ],
   "source": [
    "group_desc"
   ]
  },
  {
   "cell_type": "code",
   "execution_count": 54,
   "metadata": {},
   "outputs": [],
   "source": [
    "df_trans_val2 = group_desc.transpose()"
   ]
  },
  {
   "cell_type": "code",
   "execution_count": 55,
   "metadata": {},
   "outputs": [],
   "source": [
    "df_group_des = pd.DataFrame(group_desc)"
   ]
  },
  {
   "cell_type": "code",
   "execution_count": 56,
   "metadata": {},
   "outputs": [
    {
     "data": {
      "text/html": [
       "<div>\n",
       "<style scoped>\n",
       "    .dataframe tbody tr th:only-of-type {\n",
       "        vertical-align: middle;\n",
       "    }\n",
       "\n",
       "    .dataframe tbody tr th {\n",
       "        vertical-align: top;\n",
       "    }\n",
       "\n",
       "    .dataframe thead th {\n",
       "        text-align: right;\n",
       "    }\n",
       "</style>\n",
       "<table border=\"1\" class=\"dataframe\">\n",
       "  <thead>\n",
       "    <tr style=\"text-align: right;\">\n",
       "      <th></th>\n",
       "      <th>count</th>\n",
       "      <th>mean</th>\n",
       "      <th>std</th>\n",
       "      <th>min</th>\n",
       "      <th>25%</th>\n",
       "      <th>50%</th>\n",
       "      <th>75%</th>\n",
       "      <th>max</th>\n",
       "    </tr>\n",
       "    <tr>\n",
       "      <th>serviceId</th>\n",
       "      <th></th>\n",
       "      <th></th>\n",
       "      <th></th>\n",
       "      <th></th>\n",
       "      <th></th>\n",
       "      <th></th>\n",
       "      <th></th>\n",
       "      <th></th>\n",
       "    </tr>\n",
       "  </thead>\n",
       "  <tbody>\n",
       "    <tr>\n",
       "      <td>1</td>\n",
       "      <td>143760.0</td>\n",
       "      <td>384.328506</td>\n",
       "      <td>1501.968473</td>\n",
       "      <td>0.0</td>\n",
       "      <td>21.0</td>\n",
       "      <td>55.0</td>\n",
       "      <td>199.00</td>\n",
       "      <td>42945.0</td>\n",
       "    </tr>\n",
       "    <tr>\n",
       "      <td>2</td>\n",
       "      <td>586.0</td>\n",
       "      <td>574.116041</td>\n",
       "      <td>1392.419202</td>\n",
       "      <td>0.0</td>\n",
       "      <td>35.0</td>\n",
       "      <td>109.0</td>\n",
       "      <td>435.50</td>\n",
       "      <td>14655.0</td>\n",
       "    </tr>\n",
       "    <tr>\n",
       "      <td>3</td>\n",
       "      <td>11874.0</td>\n",
       "      <td>2315.159424</td>\n",
       "      <td>5392.904531</td>\n",
       "      <td>0.0</td>\n",
       "      <td>2.0</td>\n",
       "      <td>58.0</td>\n",
       "      <td>1702.75</td>\n",
       "      <td>41175.0</td>\n",
       "    </tr>\n",
       "    <tr>\n",
       "      <td>4</td>\n",
       "      <td>68043.0</td>\n",
       "      <td>820.001558</td>\n",
       "      <td>1922.948214</td>\n",
       "      <td>0.0</td>\n",
       "      <td>20.0</td>\n",
       "      <td>151.0</td>\n",
       "      <td>793.00</td>\n",
       "      <td>40597.0</td>\n",
       "    </tr>\n",
       "    <tr>\n",
       "      <td>5</td>\n",
       "      <td>38854.0</td>\n",
       "      <td>380.576337</td>\n",
       "      <td>1814.849555</td>\n",
       "      <td>0.0</td>\n",
       "      <td>19.0</td>\n",
       "      <td>55.0</td>\n",
       "      <td>186.00</td>\n",
       "      <td>81897.0</td>\n",
       "    </tr>\n",
       "    <tr>\n",
       "      <td>6</td>\n",
       "      <td>4763.0</td>\n",
       "      <td>1292.995591</td>\n",
       "      <td>4777.842962</td>\n",
       "      <td>0.0</td>\n",
       "      <td>5.0</td>\n",
       "      <td>40.0</td>\n",
       "      <td>428.50</td>\n",
       "      <td>115269.0</td>\n",
       "    </tr>\n",
       "    <tr>\n",
       "      <td>7</td>\n",
       "      <td>515.0</td>\n",
       "      <td>1339.671845</td>\n",
       "      <td>3951.912505</td>\n",
       "      <td>0.0</td>\n",
       "      <td>3.0</td>\n",
       "      <td>29.0</td>\n",
       "      <td>454.00</td>\n",
       "      <td>46118.0</td>\n",
       "    </tr>\n",
       "    <tr>\n",
       "      <td>8</td>\n",
       "      <td>495.0</td>\n",
       "      <td>1034.151515</td>\n",
       "      <td>3575.677751</td>\n",
       "      <td>0.0</td>\n",
       "      <td>1.0</td>\n",
       "      <td>8.0</td>\n",
       "      <td>137.00</td>\n",
       "      <td>32079.0</td>\n",
       "    </tr>\n",
       "    <tr>\n",
       "      <td>9</td>\n",
       "      <td>464.0</td>\n",
       "      <td>3427.993534</td>\n",
       "      <td>12347.614827</td>\n",
       "      <td>0.0</td>\n",
       "      <td>10.0</td>\n",
       "      <td>67.0</td>\n",
       "      <td>928.25</td>\n",
       "      <td>153469.0</td>\n",
       "    </tr>\n",
       "    <tr>\n",
       "      <td>10</td>\n",
       "      <td>1718.0</td>\n",
       "      <td>1662.862631</td>\n",
       "      <td>4544.070706</td>\n",
       "      <td>0.0</td>\n",
       "      <td>11.0</td>\n",
       "      <td>79.5</td>\n",
       "      <td>978.50</td>\n",
       "      <td>37737.0</td>\n",
       "    </tr>\n",
       "    <tr>\n",
       "      <td>11</td>\n",
       "      <td>1330.0</td>\n",
       "      <td>292.906015</td>\n",
       "      <td>993.260172</td>\n",
       "      <td>0.0</td>\n",
       "      <td>15.0</td>\n",
       "      <td>44.0</td>\n",
       "      <td>153.50</td>\n",
       "      <td>13528.0</td>\n",
       "    </tr>\n",
       "    <tr>\n",
       "      <td>12</td>\n",
       "      <td>21952.0</td>\n",
       "      <td>853.901148</td>\n",
       "      <td>1686.404510</td>\n",
       "      <td>0.0</td>\n",
       "      <td>33.0</td>\n",
       "      <td>165.0</td>\n",
       "      <td>863.00</td>\n",
       "      <td>25105.0</td>\n",
       "    </tr>\n",
       "    <tr>\n",
       "      <td>13</td>\n",
       "      <td>34138.0</td>\n",
       "      <td>426.555598</td>\n",
       "      <td>1165.872209</td>\n",
       "      <td>0.0</td>\n",
       "      <td>25.0</td>\n",
       "      <td>67.0</td>\n",
       "      <td>263.00</td>\n",
       "      <td>38272.0</td>\n",
       "    </tr>\n",
       "    <tr>\n",
       "      <td>14</td>\n",
       "      <td>37914.0</td>\n",
       "      <td>517.302131</td>\n",
       "      <td>1050.354223</td>\n",
       "      <td>0.0</td>\n",
       "      <td>29.0</td>\n",
       "      <td>104.0</td>\n",
       "      <td>505.00</td>\n",
       "      <td>33150.0</td>\n",
       "    </tr>\n",
       "    <tr>\n",
       "      <td>15</td>\n",
       "      <td>28589.0</td>\n",
       "      <td>655.462975</td>\n",
       "      <td>1654.258027</td>\n",
       "      <td>0.0</td>\n",
       "      <td>10.0</td>\n",
       "      <td>83.0</td>\n",
       "      <td>566.00</td>\n",
       "      <td>32782.0</td>\n",
       "    </tr>\n",
       "    <tr>\n",
       "      <td>16</td>\n",
       "      <td>8594.0</td>\n",
       "      <td>752.567838</td>\n",
       "      <td>1899.318585</td>\n",
       "      <td>0.0</td>\n",
       "      <td>14.0</td>\n",
       "      <td>89.0</td>\n",
       "      <td>577.00</td>\n",
       "      <td>22267.0</td>\n",
       "    </tr>\n",
       "    <tr>\n",
       "      <td>17</td>\n",
       "      <td>3685.0</td>\n",
       "      <td>642.818182</td>\n",
       "      <td>1492.702692</td>\n",
       "      <td>0.0</td>\n",
       "      <td>24.0</td>\n",
       "      <td>110.0</td>\n",
       "      <td>490.00</td>\n",
       "      <td>15347.0</td>\n",
       "    </tr>\n",
       "    <tr>\n",
       "      <td>18</td>\n",
       "      <td>158.0</td>\n",
       "      <td>424.227848</td>\n",
       "      <td>1620.052688</td>\n",
       "      <td>1.0</td>\n",
       "      <td>4.0</td>\n",
       "      <td>13.5</td>\n",
       "      <td>57.25</td>\n",
       "      <td>10695.0</td>\n",
       "    </tr>\n",
       "    <tr>\n",
       "      <td>19</td>\n",
       "      <td>165245.0</td>\n",
       "      <td>921.375255</td>\n",
       "      <td>1873.131998</td>\n",
       "      <td>0.0</td>\n",
       "      <td>56.0</td>\n",
       "      <td>193.0</td>\n",
       "      <td>862.00</td>\n",
       "      <td>33921.0</td>\n",
       "    </tr>\n",
       "    <tr>\n",
       "      <td>20</td>\n",
       "      <td>8126.0</td>\n",
       "      <td>929.524735</td>\n",
       "      <td>2086.933437</td>\n",
       "      <td>0.0</td>\n",
       "      <td>32.0</td>\n",
       "      <td>117.0</td>\n",
       "      <td>706.75</td>\n",
       "      <td>37404.0</td>\n",
       "    </tr>\n",
       "    <tr>\n",
       "      <td>21</td>\n",
       "      <td>3164.0</td>\n",
       "      <td>205.343236</td>\n",
       "      <td>690.277959</td>\n",
       "      <td>0.0</td>\n",
       "      <td>22.0</td>\n",
       "      <td>49.0</td>\n",
       "      <td>137.00</td>\n",
       "      <td>12120.0</td>\n",
       "    </tr>\n",
       "    <tr>\n",
       "      <td>22</td>\n",
       "      <td>122268.0</td>\n",
       "      <td>725.124571</td>\n",
       "      <td>1304.501008</td>\n",
       "      <td>0.0</td>\n",
       "      <td>53.0</td>\n",
       "      <td>226.0</td>\n",
       "      <td>867.00</td>\n",
       "      <td>49801.0</td>\n",
       "    </tr>\n",
       "  </tbody>\n",
       "</table>\n",
       "</div>"
      ],
      "text/plain": [
       "              count         mean           std  min   25%    50%      75%  \\\n",
       "serviceId                                                                   \n",
       "1          143760.0   384.328506   1501.968473  0.0  21.0   55.0   199.00   \n",
       "2             586.0   574.116041   1392.419202  0.0  35.0  109.0   435.50   \n",
       "3           11874.0  2315.159424   5392.904531  0.0   2.0   58.0  1702.75   \n",
       "4           68043.0   820.001558   1922.948214  0.0  20.0  151.0   793.00   \n",
       "5           38854.0   380.576337   1814.849555  0.0  19.0   55.0   186.00   \n",
       "6            4763.0  1292.995591   4777.842962  0.0   5.0   40.0   428.50   \n",
       "7             515.0  1339.671845   3951.912505  0.0   3.0   29.0   454.00   \n",
       "8             495.0  1034.151515   3575.677751  0.0   1.0    8.0   137.00   \n",
       "9             464.0  3427.993534  12347.614827  0.0  10.0   67.0   928.25   \n",
       "10           1718.0  1662.862631   4544.070706  0.0  11.0   79.5   978.50   \n",
       "11           1330.0   292.906015    993.260172  0.0  15.0   44.0   153.50   \n",
       "12          21952.0   853.901148   1686.404510  0.0  33.0  165.0   863.00   \n",
       "13          34138.0   426.555598   1165.872209  0.0  25.0   67.0   263.00   \n",
       "14          37914.0   517.302131   1050.354223  0.0  29.0  104.0   505.00   \n",
       "15          28589.0   655.462975   1654.258027  0.0  10.0   83.0   566.00   \n",
       "16           8594.0   752.567838   1899.318585  0.0  14.0   89.0   577.00   \n",
       "17           3685.0   642.818182   1492.702692  0.0  24.0  110.0   490.00   \n",
       "18            158.0   424.227848   1620.052688  1.0   4.0   13.5    57.25   \n",
       "19         165245.0   921.375255   1873.131998  0.0  56.0  193.0   862.00   \n",
       "20           8126.0   929.524735   2086.933437  0.0  32.0  117.0   706.75   \n",
       "21           3164.0   205.343236    690.277959  0.0  22.0   49.0   137.00   \n",
       "22         122268.0   725.124571   1304.501008  0.0  53.0  226.0   867.00   \n",
       "\n",
       "                max  \n",
       "serviceId            \n",
       "1           42945.0  \n",
       "2           14655.0  \n",
       "3           41175.0  \n",
       "4           40597.0  \n",
       "5           81897.0  \n",
       "6          115269.0  \n",
       "7           46118.0  \n",
       "8           32079.0  \n",
       "9          153469.0  \n",
       "10          37737.0  \n",
       "11          13528.0  \n",
       "12          25105.0  \n",
       "13          38272.0  \n",
       "14          33150.0  \n",
       "15          32782.0  \n",
       "16          22267.0  \n",
       "17          15347.0  \n",
       "18          10695.0  \n",
       "19          33921.0  \n",
       "20          37404.0  \n",
       "21          12120.0  \n",
       "22          49801.0  "
      ]
     },
     "execution_count": 56,
     "metadata": {},
     "output_type": "execute_result"
    }
   ],
   "source": [
    "df_group_des"
   ]
  },
  {
   "cell_type": "code",
   "execution_count": 57,
   "metadata": {},
   "outputs": [],
   "source": [
    "df_group_des = df_group_des.reset_index().rename(columns={'index':'serviceId'})"
   ]
  },
  {
   "cell_type": "code",
   "execution_count": 58,
   "metadata": {},
   "outputs": [
    {
     "data": {
      "text/plain": [
       "Index(['serviceId', 'count', 'mean', 'std', 'min', '25%', '50%', '75%', 'max'], dtype='object')"
      ]
     },
     "execution_count": 58,
     "metadata": {},
     "output_type": "execute_result"
    }
   ],
   "source": [
    "df_group_des.columns"
   ]
  },
  {
   "cell_type": "markdown",
   "metadata": {},
   "source": [
    "<pre>그룹화 하여 파악한 serviceId와 timeSpent의 description을 시각화합니다.</pre>"
   ]
  },
  {
   "cell_type": "code",
   "execution_count": 59,
   "metadata": {},
   "outputs": [
    {
     "data": {
      "text/plain": [
       "<matplotlib.axes._subplots.AxesSubplot at 0x7f6f09e431d0>"
      ]
     },
     "execution_count": 59,
     "metadata": {},
     "output_type": "execute_result"
    },
    {
     "data": {
      "image/png": "[encoded data removed]",
      "text/plain": [
       "<Figure size 1296x1800 with 3 Axes>"
      ]
     },
     "metadata": {
      "needs_background": "light"
     },
     "output_type": "display_data"
    }
   ],
   "source": [
    "fig,(ax1,ax2,ax3) = plt.subplots(nrows=3)\n",
    "fig.set_size_inches(18,25)\n",
    "\n",
    "sns.barplot(x = 'serviceId' , y = 'mean' , errwidth=0, data = df_group_des , ax = ax1)\n",
    "sns.barplot(x = 'serviceId' , y = 'count' , errwidth = 0 , data = df_group_des, ax = ax2)\n",
    "sns.barplot(x = 'serviceId' , y = 'std' , errwidth = 0 , data = df_group_des , ax = ax3)"
   ]
  },
  {
   "cell_type": "markdown",
   "metadata": {},
   "source": [
    "<pre>df_t 내 변수들간의 상관관계를 분석합니다.</pre>"
   ]
  },
  {
   "cell_type": "code",
   "execution_count": 60,
   "metadata": {},
   "outputs": [],
   "source": [
    "servicematt = df_t[['serviceId','timeSpent','month','numberOfDays']]"
   ]
  },
  {
   "cell_type": "code",
   "execution_count": 61,
   "metadata": {},
   "outputs": [],
   "source": [
    "servicematt = servicematt.corr()"
   ]
  },
  {
   "cell_type": "code",
   "execution_count": 62,
   "metadata": {},
   "outputs": [
    {
     "name": "stdout",
     "output_type": "stream",
     "text": [
      "              serviceId  timeSpent     month  numberOfDays\n",
      "serviceId      1.000000   0.054689  0.078480      0.152369\n",
      "timeSpent      0.054689   1.000000 -0.027795      0.683526\n",
      "month          0.078480  -0.027795  1.000000     -0.013324\n",
      "numberOfDays   0.152369   0.683526 -0.013324      1.000000\n"
     ]
    }
   ],
   "source": [
    "#상관관계 분석\n",
    "print(servicematt)"
   ]
  },
  {
   "cell_type": "code",
   "execution_count": 63,
   "metadata": {},
   "outputs": [],
   "source": [
    "mask = np.array(servicematt)"
   ]
  },
  {
   "cell_type": "code",
   "execution_count": 64,
   "metadata": {},
   "outputs": [],
   "source": [
    "mask[np.tril_indices_from(mask)] = False"
   ]
  },
  {
   "cell_type": "code",
   "execution_count": 65,
   "metadata": {},
   "outputs": [
    {
     "data": {
      "text/plain": [
       "<matplotlib.axes._subplots.AxesSubplot at 0x7f6f09b659d0>"
      ]
     },
     "execution_count": 65,
     "metadata": {},
     "output_type": "execute_result"
    },
    {
     "data": {
      "image/png": "[encoded data removed]",
      "text/plain": [
       "<Figure size 1440x720 with 2 Axes>"
      ]
     },
     "metadata": {
      "needs_background": "light"
     },
     "output_type": "display_data"
    }
   ],
   "source": [
    "fig,ax = plt.subplots()\n",
    "fig.set_size_inches(20,10)\n",
    "sns.heatmap(servicematt,mask=mask, vmax = .8 , square = True, annot = True)"
   ]
  },
  {
   "cell_type": "code",
   "execution_count": 66,
   "metadata": {},
   "outputs": [
    {
     "data": {
      "text/html": [
       "<div>\n",
       "<style scoped>\n",
       "    .dataframe tbody tr th:only-of-type {\n",
       "        vertical-align: middle;\n",
       "    }\n",
       "\n",
       "    .dataframe tbody tr th {\n",
       "        vertical-align: top;\n",
       "    }\n",
       "\n",
       "    .dataframe thead th {\n",
       "        text-align: right;\n",
       "    }\n",
       "</style>\n",
       "<table border=\"1\" class=\"dataframe\">\n",
       "  <thead>\n",
       "    <tr style=\"text-align: right;\">\n",
       "      <th></th>\n",
       "      <th>Unnamed: 0</th>\n",
       "      <th>monthCode</th>\n",
       "      <th>serviceId</th>\n",
       "      <th>userId</th>\n",
       "      <th>timeSpent</th>\n",
       "      <th>numberOfDays</th>\n",
       "      <th>year</th>\n",
       "      <th>month</th>\n",
       "    </tr>\n",
       "  </thead>\n",
       "  <tbody>\n",
       "    <tr>\n",
       "      <td>Unnamed: 0</td>\n",
       "      <td>1.000000</td>\n",
       "      <td>0.223622</td>\n",
       "      <td>0.021180</td>\n",
       "      <td>-0.040642</td>\n",
       "      <td>-0.003038</td>\n",
       "      <td>-0.003410</td>\n",
       "      <td>NaN</td>\n",
       "      <td>0.223622</td>\n",
       "    </tr>\n",
       "    <tr>\n",
       "      <td>monthCode</td>\n",
       "      <td>0.223622</td>\n",
       "      <td>1.000000</td>\n",
       "      <td>0.078480</td>\n",
       "      <td>-0.004398</td>\n",
       "      <td>-0.027795</td>\n",
       "      <td>-0.013324</td>\n",
       "      <td>NaN</td>\n",
       "      <td>1.000000</td>\n",
       "    </tr>\n",
       "    <tr>\n",
       "      <td>serviceId</td>\n",
       "      <td>0.021180</td>\n",
       "      <td>0.078480</td>\n",
       "      <td>1.000000</td>\n",
       "      <td>-0.004108</td>\n",
       "      <td>0.054689</td>\n",
       "      <td>0.152369</td>\n",
       "      <td>NaN</td>\n",
       "      <td>0.078480</td>\n",
       "    </tr>\n",
       "    <tr>\n",
       "      <td>userId</td>\n",
       "      <td>-0.040642</td>\n",
       "      <td>-0.004398</td>\n",
       "      <td>-0.004108</td>\n",
       "      <td>1.000000</td>\n",
       "      <td>-0.005933</td>\n",
       "      <td>-0.000861</td>\n",
       "      <td>NaN</td>\n",
       "      <td>-0.004398</td>\n",
       "    </tr>\n",
       "    <tr>\n",
       "      <td>timeSpent</td>\n",
       "      <td>-0.003038</td>\n",
       "      <td>-0.027795</td>\n",
       "      <td>0.054689</td>\n",
       "      <td>-0.005933</td>\n",
       "      <td>1.000000</td>\n",
       "      <td>0.683526</td>\n",
       "      <td>NaN</td>\n",
       "      <td>-0.027795</td>\n",
       "    </tr>\n",
       "    <tr>\n",
       "      <td>numberOfDays</td>\n",
       "      <td>-0.003410</td>\n",
       "      <td>-0.013324</td>\n",
       "      <td>0.152369</td>\n",
       "      <td>-0.000861</td>\n",
       "      <td>0.683526</td>\n",
       "      <td>1.000000</td>\n",
       "      <td>NaN</td>\n",
       "      <td>-0.013324</td>\n",
       "    </tr>\n",
       "    <tr>\n",
       "      <td>year</td>\n",
       "      <td>NaN</td>\n",
       "      <td>NaN</td>\n",
       "      <td>NaN</td>\n",
       "      <td>NaN</td>\n",
       "      <td>NaN</td>\n",
       "      <td>NaN</td>\n",
       "      <td>NaN</td>\n",
       "      <td>NaN</td>\n",
       "    </tr>\n",
       "    <tr>\n",
       "      <td>month</td>\n",
       "      <td>0.223622</td>\n",
       "      <td>1.000000</td>\n",
       "      <td>0.078480</td>\n",
       "      <td>-0.004398</td>\n",
       "      <td>-0.027795</td>\n",
       "      <td>-0.013324</td>\n",
       "      <td>NaN</td>\n",
       "      <td>1.000000</td>\n",
       "    </tr>\n",
       "  </tbody>\n",
       "</table>\n",
       "</div>"
      ],
      "text/plain": [
       "              Unnamed: 0  monthCode  serviceId    userId  timeSpent  \\\n",
       "Unnamed: 0      1.000000   0.223622   0.021180 -0.040642  -0.003038   \n",
       "monthCode       0.223622   1.000000   0.078480 -0.004398  -0.027795   \n",
       "serviceId       0.021180   0.078480   1.000000 -0.004108   0.054689   \n",
       "userId         -0.040642  -0.004398  -0.004108  1.000000  -0.005933   \n",
       "timeSpent      -0.003038  -0.027795   0.054689 -0.005933   1.000000   \n",
       "numberOfDays   -0.003410  -0.013324   0.152369 -0.000861   0.683526   \n",
       "year                 NaN        NaN        NaN       NaN        NaN   \n",
       "month           0.223622   1.000000   0.078480 -0.004398  -0.027795   \n",
       "\n",
       "              numberOfDays  year     month  \n",
       "Unnamed: 0       -0.003410   NaN  0.223622  \n",
       "monthCode        -0.013324   NaN  1.000000  \n",
       "serviceId         0.152369   NaN  0.078480  \n",
       "userId           -0.000861   NaN -0.004398  \n",
       "timeSpent         0.683526   NaN -0.027795  \n",
       "numberOfDays      1.000000   NaN -0.013324  \n",
       "year                   NaN   NaN       NaN  \n",
       "month            -0.013324   NaN  1.000000  "
      ]
     },
     "execution_count": 66,
     "metadata": {},
     "output_type": "execute_result"
    }
   ],
   "source": [
    "df_t.corr()"
   ]
  },
  {
   "cell_type": "code",
   "execution_count": null,
   "metadata": {},
   "outputs": [],
   "source": []
  },
  {
   "cell_type": "code",
   "execution_count": null,
   "metadata": {},
   "outputs": [],
   "source": []
  }
 ],
 "metadata": {
  "kernelspec": {
   "display_name": "Python 3",
   "language": "python",
   "name": "python3"
  },
  "language_info": {
   "codemirror_mode": {
    "name": "ipython",
    "version": 3
   },
   "file_extension": ".py",
   "mimetype": "text/x-python",
   "name": "python",
   "nbconvert_exporter": "python",
   "pygments_lexer": "ipython3",
   "version": "3.7.4"
  }
 },
 "nbformat": 4,
 "nbformat_minor": 4
}
